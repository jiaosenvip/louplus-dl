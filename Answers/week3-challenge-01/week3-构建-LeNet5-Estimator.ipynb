{
 "cells": [
  {
   "cell_type": "markdown",
   "metadata": {},
   "source": [
    "<a target=\"_blank\" href=\"https://shiyanlou.com/louplus/ml\"><img style=\"float: right;\" src=\"https://doc.shiyanlou.com/courses/uid214893-20190709-1562652991830\"></a>"
   ]
  },
  {
   "cell_type": "markdown",
   "metadata": {},
   "source": [
    "## 构建 LeNet-5 Estimator"
   ]
  },
  {
   "cell_type": "markdown",
   "metadata": {},
   "source": [
    "---"
   ]
  },
  {
   "cell_type": "markdown",
   "metadata": {},
   "source": [
    "<i class=\"fa fa-exclamation-circle\" aria-hidden=\"true\"> 以下内容仅包含挑战需学员补充部分的参考答案，完整挑战请到原课程页面查看。</i>"
   ]
  },
  {
   "cell_type": "markdown",
   "metadata": {},
   "source": [
    "---"
   ]
  },
  {
   "cell_type": "code",
   "execution_count": null,
   "metadata": {},
   "outputs": [],
   "source": [
    "model = tf.keras.models.Sequential([\n",
    "    # 卷积层，6 个 5x5 卷积核，步长为 1，relu 激活，第一层需指定 input_shape\n",
    "    tf.keras.layers.Conv2D(filters=6, kernel_size=(5, 5), strides=(1, 1),\n",
    "                           activation='relu', input_shape=(32, 32, 1)),\n",
    "    # 平均池化，池化窗口默认为 2\n",
    "    tf.keras.layers.AveragePooling2D(pool_size=(2, 2), strides=2),\n",
    "    # 卷积层，16 个 5x5 卷积核，步为 1，relu 激活\n",
    "    tf.keras.layers.Conv2D(filters=16, kernel_size=(\n",
    "        5, 5), strides=(1, 1), activation='relu'),\n",
    "    # 平均池化，池化窗口默认为 2\n",
    "    tf.keras.layers.AveragePooling2D(pool_size=(2, 2), strides=2),\n",
    "    # 需展平后才能与全连接层相连\n",
    "    tf.keras.layers.Flatten(),\n",
    "    # 全连接层，输出为 120，relu 激活\n",
    "    tf.keras.layers.Dense(units=120, activation='relu'),\n",
    "    # 全连接层，输出为 84，relu 激活\n",
    "    tf.keras.layers.Dense(units=84, activation='relu'),\n",
    "    # 全连接层，输出为 10，Softmax 激活\n",
    "    tf.keras.layers.Dense(units=10, activation='softmax')\n",
    "])\n",
    "# 编译模型，Adam 优化器，多分类交叉熵损失函数，准确度评估\n",
    "# model.compile(optimizer='adam', loss='categorical_crossentropy', metrics=['accuracy'])\n",
    "model.compile(optimizer=tf.keras.optimizers.RMSprop(),\n",
    "              loss=tf.keras.losses.SparseCategoricalCrossentropy(\n",
    "                  from_logits=True),\n",
    "              metrics=['sparse_categorical_accuracy'])\n",
    "# 查看网络结构\n",
    "model.summary()"
   ]
  },
  {
   "cell_type": "markdown",
   "metadata": {},
   "source": [
    "定义数据输入函数，根据官方指南说明，返回值务必是 [`tf.data.Dataset`](https://www.tensorflow.org/api_docs/python/tf/data/Dataset)，同时请务必将 `tf.data.Dataset` 构建代码放置于函数中，否则后续训练时会报错。"
   ]
  },
  {
   "cell_type": "code",
   "execution_count": null,
   "metadata": {},
   "outputs": [],
   "source": [
    "def train_input_fn():\n",
    "    # 训练数据输入函数\n",
    "    train_dataset = tf.data.Dataset.from_tensor_slices(\n",
    "        (x_train.astype('float32'), y_train.astype('int64')))\n",
    "    dataset = train_dataset.batch(32).repeat()\n",
    "    return dataset\n",
    "\n",
    "\n",
    "def test_input_fn():\n",
    "    # 测试数据输入函数\n",
    "    test_dataset = tf.data.Dataset.from_tensor_slices(\n",
    "        (x_test.astype('float32'), y_test.astype('int64')))\n",
    "    dataset = test_dataset.batch(32).repeat()\n",
    "    return dataset"
   ]
  },
  {
   "cell_type": "markdown",
   "metadata": {},
   "source": [
    "创建临时文件夹，并将 Keras 模型转换为 Estimator 模型。"
   ]
  },
  {
   "cell_type": "code",
   "execution_count": null,
   "metadata": {},
   "outputs": [],
   "source": [
    "import tempfile\n",
    "\n",
    "model_dir = tempfile.mkdtemp()\n",
    "keras_estimator = tf.keras.estimator.model_to_estimator(\n",
    "    keras_model=model, model_dir=model_dir)\n",
    "keras_estimator"
   ]
  },
  {
   "cell_type": "markdown",
   "metadata": {},
   "source": [
    "训练："
   ]
  },
  {
   "cell_type": "code",
   "execution_count": null,
   "metadata": {
    "scrolled": true
   },
   "outputs": [],
   "source": [
    "keras_estimator.train(input_fn=train_input_fn, steps=500)\n",
    "eval_result = keras_estimator.evaluate(input_fn=test_input_fn, steps=10)\n",
    "print('Eval result: {}'.format(eval_result))"
   ]
  },
  {
   "cell_type": "markdown",
   "metadata": {},
   "source": [
    "<hr><div style=\"color: #999; font-size: 12px;\"><i class=\"fa fa-copyright\" aria-hidden=\"true\"> 本课程内容版权归实验楼所有，禁止转载、下载及非法传播。</i></div>"
   ]
  },
  {
   "cell_type": "markdown",
   "metadata": {},
   "source": [
    "Kaggle 完整运行过程：https://www.kaggle.com/huhuhang/lenet-5-estimator"
   ]
  }
 ],
 "metadata": {
  "kernelspec": {
   "display_name": "Python 3",
   "language": "python",
   "name": "python3"
  },
  "language_info": {
   "codemirror_mode": {
    "name": "ipython",
    "version": 3
   },
   "file_extension": ".py",
   "mimetype": "text/x-python",
   "name": "python",
   "nbconvert_exporter": "python",
   "pygments_lexer": "ipython3",
   "version": "3.7.4"
  }
 },
 "nbformat": 4,
 "nbformat_minor": 2
}
