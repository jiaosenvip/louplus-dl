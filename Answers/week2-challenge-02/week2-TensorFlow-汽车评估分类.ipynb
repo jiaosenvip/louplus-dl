{
 "cells": [
  {
   "cell_type": "markdown",
   "metadata": {},
   "source": [
    "<a target=\"_blank\" href=\"https://shiyanlou.com/louplus/ml\"><img style=\"float: right;\" src=\"https://doc.shiyanlou.com/courses/uid214893-20190709-1562652991830\"></a>"
   ]
  },
  {
   "cell_type": "markdown",
   "metadata": {},
   "source": [
    "## TensorFlow 汽车评估分类"
   ]
  },
  {
   "cell_type": "markdown",
   "metadata": {},
   "source": [
    "---"
   ]
  },
  {
   "cell_type": "markdown",
   "metadata": {},
   "source": [
    "<i class=\"fa fa-exclamation-circle\" aria-hidden=\"true\"> 以下内容仅包含挑战需学员补充部分的参考答案，完整挑战请到原课程页面查看。</i>"
   ]
  },
  {
   "cell_type": "markdown",
   "metadata": {},
   "source": [
    "---"
   ]
  },
  {
   "cell_type": "markdown",
   "metadata": {},
   "source": [
    "独热编码"
   ]
  },
  {
   "cell_type": "code",
   "execution_count": null,
   "metadata": {},
   "outputs": [],
   "source": [
    "X_train = pd.get_dummies(X_train).values\n",
    "X_test = pd.get_dummies(X_test).values\n",
    "y_train = pd.get_dummies(y_train).values\n",
    "y_test = pd.get_dummies(y_test).values"
   ]
  },
  {
   "cell_type": "markdown",
   "metadata": {},
   "source": [
    "定义模型"
   ]
  },
  {
   "cell_type": "code",
   "execution_count": null,
   "metadata": {},
   "outputs": [],
   "source": [
    "class Model(object):\n",
    "    def __init__(self):\n",
    "        # 随机初始化张量参数\n",
    "        self.W1 = tf.Variable(tf.random.normal([21, 15]))\n",
    "        self.b1 = tf.Variable(tf.random.normal([15]))\n",
    "        self.W2 = tf.Variable(tf.random.normal([15, 4]))\n",
    "        self.b2 = tf.Variable(tf.random.normal([4]))\n",
    "\n",
    "    def __call__(self, x):\n",
    "        x = tf.cast(x, tf.float32)  # 转换输入数据类型\n",
    "        # 线性计算 + RELU 激活\n",
    "        fc1 = tf.nn.relu(tf.add(tf.matmul(x, self.W1), self.b1))  # 全连接层 1\n",
    "        fc2 = tf.add(tf.matmul(fc1, self.W2), self.b2)  # 全连接层 2\n",
    "        return fc2"
   ]
  },
  {
   "cell_type": "markdown",
   "metadata": {},
   "source": [
    "损失函数"
   ]
  },
  {
   "cell_type": "code",
   "execution_count": null,
   "metadata": {},
   "outputs": [],
   "source": [
    "def loss_fn(model, x, y):\n",
    "    preds = model(x)\n",
    "    return tf.reduce_mean(tf.nn.softmax_cross_entropy_with_logits(logits=preds, labels=y))"
   ]
  },
  {
   "cell_type": "markdown",
   "metadata": {},
   "source": [
    "准确度计算函数"
   ]
  },
  {
   "cell_type": "code",
   "execution_count": null,
   "metadata": {},
   "outputs": [],
   "source": [
    "def accuracy_fn(logits, labels):\n",
    "    preds = tf.argmax(logits, axis=1)  # 取值最大的索引，正好对应字符标签\n",
    "    labels = tf.argmax(labels, axis=1)\n",
    "    return tf.reduce_mean(tf.cast(tf.equal(preds, labels), tf.float32))"
   ]
  },
  {
   "cell_type": "markdown",
   "metadata": {},
   "source": [
    "优化迭代过程"
   ]
  },
  {
   "cell_type": "code",
   "execution_count": null,
   "metadata": {},
   "outputs": [],
   "source": [
    "import tensorflow as tf\n",
    "EPOCHS = 500  # 迭代此时\n",
    "LEARNING_RATE = 0.02  # 学习率\n",
    "model = Model()  # 实例化模型类\n",
    "for epoch in range(EPOCHS):\n",
    "    with tf.GradientTape() as tape:  # 追踪梯度\n",
    "        loss = loss_fn(model, X_train, y_train)\n",
    "\n",
    "    trainable_variables = [model.W1, model.b1, model.W2, model.b2]  # 需优化参数列表\n",
    "    grads = tape.gradient(loss, trainable_variables)  # 计算梯度\n",
    "\n",
    "    optimizer = tf.optimizers.Adam(learning_rate=LEARNING_RATE)  # Adam 优化器\n",
    "    optimizer.apply_gradients(zip(grads, trainable_variables))  # 更新梯度\n",
    "    \n",
    "    accuracy = accuracy_fn(model(X_test), y_test)  # 计算准确度\n",
    "\n",
    "    # 每 100 个 Epoch 输出各项指标\n",
    "    if epoch == 0:\n",
    "        print(f'Epoch [000/{EPOCHS}], Accuracy: [{accuracy:.2f}], Loss: [{loss:.4f}]')\n",
    "    elif (epoch + 1) % 100 == 0:\n",
    "        print(f'Epoch [{epoch+1}/{EPOCHS}], Accuracy: [{accuracy:.2f}], Loss: [{loss:.4f}]')"
   ]
  },
  {
   "cell_type": "markdown",
   "metadata": {},
   "source": [
    "<hr><div style=\"color: #999; font-size: 12px;\"><i class=\"fa fa-copyright\" aria-hidden=\"true\"> 本课程内容版权归实验楼所有，禁止转载、下载及非法传播。</i></div>"
   ]
  }
 ],
 "metadata": {
  "kernelspec": {
   "display_name": "Python 3",
   "language": "python",
   "name": "python3"
  },
  "language_info": {
   "codemirror_mode": {
    "name": "ipython",
    "version": 3
   },
   "file_extension": ".py",
   "mimetype": "text/x-python",
   "name": "python",
   "nbconvert_exporter": "python",
   "pygments_lexer": "ipython3",
   "version": "3.6.9"
  }
 },
 "nbformat": 4,
 "nbformat_minor": 2
}
